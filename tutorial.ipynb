{
 "cells": [
  {
   "cell_type": "markdown",
   "metadata": {},
   "source": [
    "## Tutorial showing how to use DCM"
   ]
  },
  {
   "cell_type": "markdown",
   "metadata": {},
   "source": [
    "### Setup"
   ]
  },
  {
   "cell_type": "code",
   "execution_count": 1,
   "metadata": {},
   "outputs": [],
   "source": [
    "import os\n",
    "\n",
    "os.environ[\"CUDA_DEVICE_ORDER\"] = \"PCI_BUS_ID\"\n",
    "os.environ[\"CUDA_VISIBLE_DEVICES\"] = \"0\"\n",
    "\n",
    "import pytorch_lightning as pl\n",
    "import torch\n",
    "from data_utils import cross_validation_split\n",
    "from model import DCM\n",
    "from torch_geometric import seed_everything\n",
    "from torch_geometric.data import LightningNodeData\n",
    "from torch_geometric.datasets import Planetoid\n",
    "from torch_geometric.transforms import NormalizeFeatures\n",
    "\n",
    "torch.set_default_tensor_type(\"torch.cuda.FloatTensor\")\n",
    "torch.set_float32_matmul_precision(\"high\")\n"
   ]
  },
  {
   "cell_type": "markdown",
   "metadata": {},
   "source": [
    "This configuration file is used to determine the hyperparameters of the model and set the random seeds to have repeatable results."
   ]
  },
  {
   "cell_type": "code",
   "execution_count": 2,
   "metadata": {},
   "outputs": [],
   "source": [
    "config = {\n",
    "    \"metric\": {\"name\": \"val_acc\", \"goal\": \"maximize\"},\n",
    "    \"seed\":  42,\n",
    "    \"data_seed\":  0,\n",
    "    \"hsize\":  32,\n",
    "    \"n_pre\":  1,\n",
    "    \"n_post\":  1,\n",
    "    \"n_conv\":  1,\n",
    "    \"n_dgm_layers\":  2,\n",
    "    \"n_dgm_blocks\":  1,\n",
    "    \"dropout\":  0.5,\n",
    "    \"lr\":  0.01,\n",
    "    \"use_gcn\":  False,\n",
    "    \"sampler\":  \"entmax\",\n",
    "    \"sample_P\":  \"entmax\",\n",
    "    \"k\":  4,\n",
    "    \"graph_loss_reg\":  1,\n",
    "    \"poly_loss_reg\":  1,\n",
    "    \"std\":  0,\n",
    "    \"ensemble_steps\":  1,\n",
    "    \"gamma\":  50,\n",
    "    \"epochs\":  100,\n",
    "    }\n",
    "\n",
    "seed_everything(config[\"seed\"])"
   ]
  },
  {
   "cell_type": "markdown",
   "metadata": {},
   "source": [
    "### Loading the dataset"
   ]
  },
  {
   "cell_type": "markdown",
   "metadata": {},
   "source": [
    "For this example the Cora dataset is used."
   ]
  },
  {
   "cell_type": "code",
   "execution_count": 3,
   "metadata": {},
   "outputs": [
    {
     "name": "stdout",
     "output_type": "stream",
     "text": [
      "Nodes features shape: torch.Size([2708, 1433])\n",
      "Labels shape: torch.Size([2708])\n",
      "Number of edges: 10556\n",
      "Number of training samples: 2437\n",
      "Number of validation samples: 271\n",
      "Number of test samples: 271\n"
     ]
    }
   ],
   "source": [
    "dataset = Planetoid(\n",
    "        root=\"data/Planetoid\",\n",
    "        name=\"cora\",\n",
    "        split=\"full\",\n",
    "        transform=NormalizeFeatures(),\n",
    "    )\n",
    "    \n",
    "data = dataset[0]\n",
    "# Update data split\n",
    "data = cross_validation_split(\n",
    "    data, dataset_name=\"cora\", curr_seed=config[\"data_seed\"]\n",
    ")\n",
    "print(f\"Nodes features shape: {data.x.shape}\")\n",
    "print(f\"Labels shape: {data.y.shape}\")\n",
    "print(f\"Number of edges: {data.edge_index.shape[1]}\")\n",
    "print(f\"Number of training samples: {torch.sum(data.train_mask)}\")\n",
    "print(f\"Number of validation samples: {torch.sum(data.val_mask)}\")\n",
    "print(f\"Number of test samples: {torch.sum(data.test_mask)}\")\n",
    "\n",
    "datamodule = LightningNodeData(\n",
    "    data,\n",
    "    data.train_mask,\n",
    "    data.val_mask,\n",
    "    data.test_mask,\n",
    "    loader=\"full\",\n",
    "    generator=torch.Generator(device=\"cuda\"),\n",
    ")"
   ]
  },
  {
   "cell_type": "markdown",
   "metadata": {},
   "source": [
    "### Creating the model"
   ]
  },
  {
   "cell_type": "code",
   "execution_count": 4,
   "metadata": {},
   "outputs": [],
   "source": [
    "config[\"num_features\"] = dataset.num_features\n",
    "config[\"num_classes\"] = dataset.num_classes\n",
    "config[\"pre_layers\"] = [dataset.num_features] + [config[\"hsize\"] for _ in range(config[\"n_pre\"])]\n",
    "config[\"post_layers\"] = [config[\"hsize\"] for _ in range(config[\"n_post\"])] + [dataset.num_classes]\n",
    "config[\"dgm_layers\"] = [config[\"hsize\"] for _ in range(config[\"n_dgm_layers\"] + 1)]\n",
    "config[\"conv_layers\"] = [config[\"hsize\"] for _ in range(config[\"n_conv\"])]\n",
    "\n",
    "model = DCM(config)"
   ]
  },
  {
   "cell_type": "markdown",
   "metadata": {},
   "source": [
    "### Training"
   ]
  },
  {
   "cell_type": "code",
   "execution_count": 5,
   "metadata": {},
   "outputs": [
    {
     "name": "stderr",
     "output_type": "stream",
     "text": [
      "GPU available: True (cuda), used: True\n",
      "TPU available: False, using: 0 TPU cores\n",
      "IPU available: False, using: 0 IPUs\n",
      "HPU available: False, using: 0 HPUs\n",
      "/home/marco/anaconda3/envs/dcm/lib/python3.10/site-packages/pytorch_lightning/trainer/connectors/logger_connector/logger_connector.py:67: UserWarning: Starting from v1.9.0, `tensorboardX` has been removed as a dependency of the `pytorch_lightning` package, due to potential conflicts with other packages in the ML ecosystem. For this reason, `logger=True` will use `CSVLogger` as the default logger, unless the `tensorboard` or `tensorboardX` packages are found. Please `pip install lightning[extra]` or one of them to enable TensorBoard support by default\n",
      "  warning_cache.warn(\n"
     ]
    }
   ],
   "source": [
    "checkpoint_callback = pl.callbacks.ModelCheckpoint(monitor=\"val_acc\", mode=\"max\")\n",
    "\n",
    "trainer = pl.Trainer(\n",
    "    accelerator=\"gpu\",\n",
    "    devices=1,\n",
    "    max_epochs=config[\"epochs\"],\n",
    "    log_every_n_steps=3,\n",
    "    check_val_every_n_epoch=3,\n",
    "    num_sanity_val_steps=0,\n",
    "    callbacks=[checkpoint_callback],\n",
    ")"
   ]
  },
  {
   "cell_type": "code",
   "execution_count": 6,
   "metadata": {},
   "outputs": [
    {
     "name": "stderr",
     "output_type": "stream",
     "text": [
      "LOCAL_RANK: 0 - CUDA_VISIBLE_DEVICES: [0]\n",
      "\n",
      "  | Name      | Type               | Params\n",
      "-------------------------------------------------\n",
      "0 | pre       | MLP                | 45.9 K\n",
      "1 | graph_f   | DGM                | 2.1 K \n",
      "2 | gnn       | GNN                | 0     \n",
      "3 | cwnn      | CWNN               | 0     \n",
      "4 | poly_ln   | LayerNorm          | 2     \n",
      "5 | post      | MLP                | 455   \n",
      "6 | train_acc | MulticlassAccuracy | 0     \n",
      "7 | val_acc   | MulticlassAccuracy | 0     \n",
      "8 | test_acc  | MulticlassAccuracy | 0     \n",
      "-------------------------------------------------\n",
      "48.5 K    Trainable params\n",
      "0         Non-trainable params\n",
      "48.5 K    Total params\n",
      "0.194     Total estimated model params size (MB)\n",
      "/home/marco/anaconda3/envs/dcm/lib/python3.10/site-packages/pytorch_lightning/trainer/trainer.py:1609: PossibleUserWarning: The number of training batches (1) is smaller than the logging interval Trainer(log_every_n_steps=3). Set a lower value for log_every_n_steps if you want to see logs for the training epoch.\n",
      "  rank_zero_warn(\n"
     ]
    },
    {
     "name": "stdout",
     "output_type": "stream",
     "text": [
      "Epoch 2: 100%|██████████| 1/1 [00:00<00:00,  8.82it/s, loss=2.78, v_num=19, train_acc=0.159, train_loss=2.770]"
     ]
    },
    {
     "name": "stderr",
     "output_type": "stream",
     "text": [
      "/home/marco/anaconda3/envs/dcm/lib/python3.10/site-packages/pytorch_lightning/trainer/connectors/data_connector.py:488: PossibleUserWarning: Your `val_dataloader`'s sampler has shuffling enabled, it is strongly recommended that you turn shuffling off for val/test/predict dataloaders.\n",
      "  rank_zero_warn(\n"
     ]
    },
    {
     "name": "stdout",
     "output_type": "stream",
     "text": [
      "Epoch 99: 100%|██████████| 1/1 [00:00<00:00,  8.18it/s, loss=0.554, v_num=19, train_acc=0.815, train_loss=0.552, val_acc=0.768]"
     ]
    },
    {
     "name": "stderr",
     "output_type": "stream",
     "text": [
      "`Trainer.fit` stopped: `max_epochs=100` reached.\n"
     ]
    },
    {
     "name": "stdout",
     "output_type": "stream",
     "text": [
      "Epoch 99: 100%|██████████| 1/1 [00:00<00:00,  7.75it/s, loss=0.554, v_num=19, train_acc=0.815, train_loss=0.552, val_acc=0.768]"
     ]
    },
    {
     "name": "stderr",
     "output_type": "stream",
     "text": [
      "Restoring states from the checkpoint path at /home/marco/Documents/phd/DCM_simple/differentiable_cell-complex_module/lightning_logs/version_19/checkpoints/epoch=74-step=75.ckpt\n",
      "LOCAL_RANK: 0 - CUDA_VISIBLE_DEVICES: [0]\n",
      "Loaded model weights from checkpoint at /home/marco/Documents/phd/DCM_simple/differentiable_cell-complex_module/lightning_logs/version_19/checkpoints/epoch=74-step=75.ckpt\n",
      "/home/marco/anaconda3/envs/dcm/lib/python3.10/site-packages/pytorch_lightning/trainer/connectors/data_connector.py:488: PossibleUserWarning: Your `test_dataloader`'s sampler has shuffling enabled, it is strongly recommended that you turn shuffling off for val/test/predict dataloaders.\n",
      "  rank_zero_warn(\n"
     ]
    },
    {
     "name": "stdout",
     "output_type": "stream",
     "text": [
      "\n",
      "Testing DataLoader 0: 100%|██████████| 1/1 [00:00<00:00,  5.99it/s]\n",
      "────────────────────────────────────────────────────────────────────────────────────────────────────────────────────────\n",
      "       Test metric             DataLoader 0\n",
      "────────────────────────────────────────────────────────────────────────────────────────────────────────────────────────\n",
      "        test_acc            0.7933579087257385\n",
      "────────────────────────────────────────────────────────────────────────────────────────────────────────────────────────\n"
     ]
    },
    {
     "data": {
      "text/plain": [
       "[{'test_acc': 0.7933579087257385}]"
      ]
     },
     "execution_count": 6,
     "metadata": {},
     "output_type": "execute_result"
    }
   ],
   "source": [
    "trainer.fit(model, datamodule)\n",
    "trainer.test(ckpt_path=\"best\", datamodule=datamodule)"
   ]
  }
 ],
 "metadata": {
  "kernelspec": {
   "display_name": "dcm",
   "language": "python",
   "name": "python3"
  },
  "language_info": {
   "codemirror_mode": {
    "name": "ipython",
    "version": 3
   },
   "file_extension": ".py",
   "mimetype": "text/x-python",
   "name": "python",
   "nbconvert_exporter": "python",
   "pygments_lexer": "ipython3",
   "version": "3.10.9"
  },
  "orig_nbformat": 4
 },
 "nbformat": 4,
 "nbformat_minor": 2
}
