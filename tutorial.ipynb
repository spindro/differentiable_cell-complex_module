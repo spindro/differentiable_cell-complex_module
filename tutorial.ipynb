{
 "cells": [
  {
   "cell_type": "markdown",
   "metadata": {},
   "source": [
    "## Tutorial showing how to use DCM"
   ]
  },
  {
   "cell_type": "markdown",
   "metadata": {},
   "source": [
    "### Setup"
   ]
  },
  {
   "cell_type": "code",
   "execution_count": 1,
   "metadata": {},
   "outputs": [],
   "source": [
    "import warnings\n",
    "warnings.filterwarnings(\"ignore\")\n",
    "\n",
    "import os\n",
    "\n",
    "os.environ[\"CUDA_DEVICE_ORDER\"] = \"PCI_BUS_ID\"\n",
    "os.environ[\"CUDA_VISIBLE_DEVICES\"] = \"0\"\n",
    "\n",
    "import pytorch_lightning as pl\n",
    "\n",
    "import torch\n",
    "from model.model_dcm import ModelDCM\n",
    "from modules.cell_network import CellNetwork\n",
    "from torch_geometric import seed_everything\n",
    "from torch_geometric.data import LightningNodeData\n",
    "from torch_geometric.datasets import Planetoid\n",
    "from torch_geometric.transforms import NormalizeFeatures\n",
    "\n",
    "torch.set_default_tensor_type(\"torch.cuda.FloatTensor\")\n",
    "torch.set_float32_matmul_precision(\"high\")\n"
   ]
  },
  {
   "cell_type": "markdown",
   "metadata": {},
   "source": [
    "This configuration file is used to determine the hyperparameters of the model and set the random seeds to have repeatable results."
   ]
  },
  {
   "cell_type": "code",
   "execution_count": 2,
   "metadata": {},
   "outputs": [],
   "source": [
    "config = {\n",
    "    \"metric\": {\"name\": \"val_acc\", \"goal\": \"maximize\"},\n",
    "    \"seed\":  42,\n",
    "    \"data_seed\":  0,\n",
    "    \"hsize\":  32,\n",
    "    \"n_pre\":  1,\n",
    "    \"n_post\":  1,\n",
    "    \"n_conv\":  1,\n",
    "    \"n_dgm_layers\":  2,\n",
    "    \"dropout\":  0.5,\n",
    "    \"lr\":  0.01,\n",
    "    \"use_gcn\":  False,\n",
    "    \"k\":  4,\n",
    "    \"graph_loss_reg\":  1,\n",
    "    \"poly_loss_reg\":  1,\n",
    "    \"std\":  0,\n",
    "    \"ensemble_steps\":  3,\n",
    "    \"gamma\":  50,\n",
    "    \"epochs\":  200,\n",
    "    }\n",
    "\n",
    "seed_everything(config[\"seed\"])"
   ]
  },
  {
   "cell_type": "markdown",
   "metadata": {},
   "source": [
    "### Loading the dataset"
   ]
  },
  {
   "cell_type": "markdown",
   "metadata": {},
   "source": [
    "For this example the Cora dataset is used."
   ]
  },
  {
   "cell_type": "code",
   "execution_count": 3,
   "metadata": {},
   "outputs": [],
   "source": [
    "dataset = Planetoid(\n",
    "        root=\"data/Planetoid\",\n",
    "        name=\"cora\",\n",
    "        split=\"random\",\n",
    "        num_train_per_class=373,\n",
    "        num_val=271,\n",
    "        num_test=271,\n",
    "        transform=NormalizeFeatures(),\n",
    "    )\n",
    "    \n",
    "data = dataset[0]\n",
    "\n",
    "datamodule = LightningNodeData(\n",
    "    data,\n",
    "    data.train_mask,\n",
    "    data.val_mask,\n",
    "    data.test_mask,\n",
    "    loader=\"full\",\n",
    "    generator=torch.Generator(device=\"cuda\"),\n",
    ")"
   ]
  },
  {
   "cell_type": "markdown",
   "metadata": {},
   "source": [
    "### Creating the model"
   ]
  },
  {
   "cell_type": "code",
   "execution_count": 4,
   "metadata": {},
   "outputs": [],
   "source": [
    "config[\"num_features\"] = dataset.num_features\n",
    "config[\"num_classes\"] = dataset.num_classes\n",
    "config[\"pre_layers\"] = [dataset.num_features] + [config[\"hsize\"] for _ in range(config[\"n_pre\"])]\n",
    "config[\"post_layers\"] = [config[\"hsize\"] for _ in range(config[\"n_post\"])] + [dataset.num_classes]\n",
    "config[\"dgm_layers\"] = [config[\"hsize\"] for _ in range(config[\"n_dgm_layers\"] + 1)]\n",
    "config[\"conv_layers\"] = [config[\"hsize\"] for _ in range(config[\"n_conv\"])]\n",
    "\n",
    "model = ModelDCM(config)"
   ]
  },
  {
   "cell_type": "markdown",
   "metadata": {},
   "source": [
    "### Training"
   ]
  },
  {
   "cell_type": "code",
   "execution_count": 5,
   "metadata": {},
   "outputs": [
    {
     "name": "stderr",
     "output_type": "stream",
     "text": [
      "GPU available: True (cuda), used: True\n",
      "TPU available: False, using: 0 TPU cores\n",
      "IPU available: False, using: 0 IPUs\n",
      "HPU available: False, using: 0 HPUs\n"
     ]
    }
   ],
   "source": [
    "checkpoint_callback = pl.callbacks.ModelCheckpoint(monitor=\"val_acc\", mode=\"max\")\n",
    "\n",
    "trainer = pl.Trainer(\n",
    "    accelerator=\"gpu\",\n",
    "    devices=1,\n",
    "    max_epochs=config[\"epochs\"],\n",
    "    log_every_n_steps=1,\n",
    "    check_val_every_n_epoch=3,\n",
    "    num_sanity_val_steps=1,\n",
    "    callbacks=[checkpoint_callback],\n",
    ")"
   ]
  },
  {
   "cell_type": "code",
   "execution_count": 6,
   "metadata": {},
   "outputs": [
    {
     "name": "stderr",
     "output_type": "stream",
     "text": [
      "LOCAL_RANK: 0 - CUDA_VISIBLE_DEVICES: [0]\n",
      "\n",
      "  | Name         | Type               | Params\n",
      "----------------------------------------------------\n",
      "0 | pre          | MLP                | 45.9 K\n",
      "1 | dcm          | DCM                | 2.1 K \n",
      "2 | cell_network | CellNetwork        | 0     \n",
      "3 | post         | MLP                | 455   \n",
      "4 | train_acc    | MulticlassAccuracy | 0     \n",
      "5 | val_acc      | MulticlassAccuracy | 0     \n",
      "6 | test_acc     | MulticlassAccuracy | 0     \n",
      "----------------------------------------------------\n",
      "48.5 K    Trainable params\n",
      "0         Non-trainable params\n",
      "48.5 K    Total params\n",
      "0.194     Total estimated model params size (MB)\n"
     ]
    },
    {
     "name": "stdout",
     "output_type": "stream",
     "text": [
      "Epoch 199: 100%|██████████| 1/1 [00:00<00:00,  8.92it/s, loss=0.37, v_num=41, train_acc=0.863, train_loss=0.385, val_acc=0.749] "
     ]
    },
    {
     "name": "stderr",
     "output_type": "stream",
     "text": [
      "`Trainer.fit` stopped: `max_epochs=200` reached.\n"
     ]
    },
    {
     "name": "stdout",
     "output_type": "stream",
     "text": [
      "Epoch 199: 100%|██████████| 1/1 [00:00<00:00,  8.41it/s, loss=0.37, v_num=41, train_acc=0.863, train_loss=0.385, val_acc=0.749]"
     ]
    },
    {
     "name": "stderr",
     "output_type": "stream",
     "text": [
      "Restoring states from the checkpoint path at /home/marco/Documents/phd/DCM_simple/differentiable_cell-complex_module/lightning_logs/version_41/checkpoints/epoch=80-step=81.ckpt\n",
      "LOCAL_RANK: 0 - CUDA_VISIBLE_DEVICES: [0]\n",
      "Loaded model weights from checkpoint at /home/marco/Documents/phd/DCM_simple/differentiable_cell-complex_module/lightning_logs/version_41/checkpoints/epoch=80-step=81.ckpt\n"
     ]
    },
    {
     "name": "stdout",
     "output_type": "stream",
     "text": [
      "\n",
      "Testing DataLoader 0: 100%|██████████| 1/1 [00:00<00:00,  2.50it/s]\n",
      "────────────────────────────────────────────────────────────────────────────────────────────────────────────────────────\n",
      "       Test metric             DataLoader 0\n",
      "────────────────────────────────────────────────────────────────────────────────────────────────────────────────────────\n",
      "        test_acc            0.7121770977973938\n",
      "────────────────────────────────────────────────────────────────────────────────────────────────────────────────────────\n"
     ]
    },
    {
     "data": {
      "text/plain": [
       "[{'test_acc': 0.7121770977973938}]"
      ]
     },
     "execution_count": 6,
     "metadata": {},
     "output_type": "execute_result"
    }
   ],
   "source": [
    "trainer.fit(model, datamodule)\n",
    "trainer.test(ckpt_path=\"best\", datamodule=datamodule)"
   ]
  },
  {
   "cell_type": "markdown",
   "metadata": {},
   "source": [
    "### Changing the CellNetwork"
   ]
  },
  {
   "cell_type": "markdown",
   "metadata": {},
   "source": [
    "Testing a different network over the structure inferred by DCM is straightforward."
   ]
  },
  {
   "cell_type": "code",
   "execution_count": 7,
   "metadata": {},
   "outputs": [],
   "source": [
    "# addign one more conv layer\n",
    "config[\"num_features\"] = dataset.num_features\n",
    "config[\"num_classes\"] = dataset.num_classes\n",
    "config[\"pre_layers\"] = [dataset.num_features] + [config[\"hsize\"] for _ in range(config[\"n_pre\"])]\n",
    "config[\"post_layers\"] = [config[\"hsize\"] for _ in range(config[\"n_post\"])] + [dataset.num_classes]\n",
    "config[\"dgm_layers\"] = [config[\"hsize\"] for _ in range(config[\"n_dgm_layers\"] + 1)]\n",
    "config[\"conv_layers\"] = [config[\"hsize\"] for _ in range(config[\"n_conv\"] + 1)]\n",
    "\n",
    "model = ModelDCM(config)\n",
    "\n",
    "new_cell_network = CellNetwork(config)\n",
    "model.cell_network = new_cell_network"
   ]
  },
  {
   "cell_type": "code",
   "execution_count": 8,
   "metadata": {},
   "outputs": [
    {
     "name": "stderr",
     "output_type": "stream",
     "text": [
      "GPU available: True (cuda), used: True\n",
      "TPU available: False, using: 0 TPU cores\n",
      "IPU available: False, using: 0 IPUs\n",
      "HPU available: False, using: 0 HPUs\n",
      "LOCAL_RANK: 0 - CUDA_VISIBLE_DEVICES: [0]\n",
      "\n",
      "  | Name         | Type               | Params\n",
      "----------------------------------------------------\n",
      "0 | pre          | MLP                | 45.9 K\n",
      "1 | dcm          | DCM                | 2.1 K \n",
      "2 | cell_network | CellNetwork        | 4.2 K \n",
      "3 | post         | MLP                | 455   \n",
      "4 | train_acc    | MulticlassAccuracy | 0     \n",
      "5 | val_acc      | MulticlassAccuracy | 0     \n",
      "6 | test_acc     | MulticlassAccuracy | 0     \n",
      "----------------------------------------------------\n",
      "52.7 K    Trainable params\n",
      "0         Non-trainable params\n",
      "52.7 K    Total params\n",
      "0.211     Total estimated model params size (MB)\n"
     ]
    },
    {
     "name": "stdout",
     "output_type": "stream",
     "text": [
      "Epoch 199: 100%|██████████| 1/1 [00:00<00:00,  8.89it/s, loss=0.673, v_num=42, train_acc=0.771, train_loss=0.672, val_acc=0.720]"
     ]
    },
    {
     "name": "stderr",
     "output_type": "stream",
     "text": [
      "`Trainer.fit` stopped: `max_epochs=200` reached.\n"
     ]
    },
    {
     "name": "stdout",
     "output_type": "stream",
     "text": [
      "Epoch 199: 100%|██████████| 1/1 [00:00<00:00,  8.37it/s, loss=0.673, v_num=42, train_acc=0.771, train_loss=0.672, val_acc=0.720]"
     ]
    },
    {
     "name": "stderr",
     "output_type": "stream",
     "text": [
      "Restoring states from the checkpoint path at /home/marco/Documents/phd/DCM_simple/differentiable_cell-complex_module/lightning_logs/version_42/checkpoints/epoch=173-step=174.ckpt\n",
      "LOCAL_RANK: 0 - CUDA_VISIBLE_DEVICES: [0]\n",
      "Loaded model weights from checkpoint at /home/marco/Documents/phd/DCM_simple/differentiable_cell-complex_module/lightning_logs/version_42/checkpoints/epoch=173-step=174.ckpt\n"
     ]
    },
    {
     "name": "stdout",
     "output_type": "stream",
     "text": [
      "\n",
      "Testing DataLoader 0: 100%|██████████| 1/1 [00:00<00:00,  2.37it/s]\n",
      "────────────────────────────────────────────────────────────────────────────────────────────────────────────────────────\n",
      "       Test metric             DataLoader 0\n",
      "────────────────────────────────────────────────────────────────────────────────────────────────────────────────────────\n",
      "        test_acc            0.7158671617507935\n",
      "────────────────────────────────────────────────────────────────────────────────────────────────────────────────────────\n"
     ]
    },
    {
     "data": {
      "text/plain": [
       "[{'test_acc': 0.7158671617507935}]"
      ]
     },
     "execution_count": 8,
     "metadata": {},
     "output_type": "execute_result"
    }
   ],
   "source": [
    "checkpoint_callback = pl.callbacks.ModelCheckpoint(monitor=\"val_acc\", mode=\"max\")\n",
    "\n",
    "trainer = pl.Trainer(\n",
    "    accelerator=\"gpu\",\n",
    "    devices=1,\n",
    "    max_epochs=config[\"epochs\"],\n",
    "    log_every_n_steps=1,\n",
    "    check_val_every_n_epoch=3,\n",
    "    num_sanity_val_steps=1,\n",
    "    callbacks=[checkpoint_callback],\n",
    ")\n",
    "trainer.fit(model, datamodule)\n",
    "trainer.test(ckpt_path=\"best\", datamodule=datamodule)"
   ]
  }
 ],
 "metadata": {
  "kernelspec": {
   "display_name": "dcm",
   "language": "python",
   "name": "python3"
  },
  "language_info": {
   "codemirror_mode": {
    "name": "ipython",
    "version": 3
   },
   "file_extension": ".py",
   "mimetype": "text/x-python",
   "name": "python",
   "nbconvert_exporter": "python",
   "pygments_lexer": "ipython3",
   "version": "3.10.9"
  },
  "orig_nbformat": 4
 },
 "nbformat": 4,
 "nbformat_minor": 2
}
